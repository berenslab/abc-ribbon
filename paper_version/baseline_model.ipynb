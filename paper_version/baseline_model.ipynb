{
 "cells": [
  {
   "cell_type": "code",
   "execution_count": 3,
   "metadata": {},
   "outputs": [],
   "source": [
    "import datetime\n",
    "import scipy as scp\n",
    "import numpy as np\n",
    "import sklearn.metrics \n",
    "import pickle\n",
    "from scipy.integrate import simps\n",
    "\n",
    "import warnings\n",
    "\n",
    "import h5py\n",
    "\n",
    "import matplotlib.pyplot as plt\n",
    "\n",
    "from sklearn.linear_model import LinearRegression\n",
    "from sklearn.linear_model import Ridge\n",
    "\n",
    "import matplotlib.gridspec as gridspec\n",
    "\n",
    "\n",
    "from samplingv4 import makeSS"
   ]
  },
  {
   "cell_type": "code",
   "execution_count": 2,
   "metadata": {},
   "outputs": [
    {
     "name": "stdout",
     "output_type": "stream",
     "text": [
      "dt[ms] for r = 10\n",
      "dt[ms] for stim = 1\n",
      "info: Stim and vesicle release of one cell, 4 recordings per stim, binned sum for r but raw for stim (dt=1)\n"
     ]
    }
   ],
   "source": [
    "\"\"\"\n",
    "load data\n",
    "\"\"\"\n",
    "\n",
    "filename = '../data/cell1.hdf5'\n",
    "f = h5py.File(filename, 'r')\n",
    "\n",
    "for item in f.attrs:\n",
    "    print(item, f.attrs[item])\n",
    "    \n",
    "stim_binary = f['stim_binary'][:]\n",
    "stim_gauss = f['stim_gauss'][:]\n",
    "\n",
    "r_binary = f['r_binary'][:]\n",
    "r_gauss = f['r_gauss'][:]\n",
    "\n",
    "f.close()\n",
    "\n",
    "\n",
    "# choose data\n",
    "light = stim_binary\n",
    "data = r_binary\n",
    "\n",
    "# stim time with time resolution of dt =1ms\n",
    "stimT = np.arange(0, len(light),1)/1000\n",
    "\n",
    "stim_binary_binned = stim_binary[::10]"
   ]
  },
  {
   "cell_type": "markdown",
   "metadata": {},
   "source": [
    "## glmnet"
   ]
  },
  {
   "cell_type": "code",
   "execution_count": 11,
   "metadata": {},
   "outputs": [],
   "source": [
    "import glmnet_python\n",
    "from glmnet import glmnet\n"
   ]
  },
  {
   "cell_type": "code",
   "execution_count": 6,
   "metadata": {},
   "outputs": [],
   "source": [
    "import glmnet_python\n",
    "from glmnet import glmnet\n",
    "\n",
    "import sys\n",
    "sys.path.append('../test')\n",
    "sys.path.append('../lib')\n",
    "import scipy, importlib, pprint, matplotlib.pyplot as plt, warnings\n",
    "from glmnet import glmnet; from glmnetPlot import glmnetPlot\n",
    "from glmnetPrint import glmnetPrint; from glmnetCoef import glmnetCoef; from glmnetPredict import glmnetPredict\n",
    "from cvglmnet import cvglmnet; from cvglmnetCoef import cvglmnetCoef\n",
    "from cvglmnetPlot import cvglmnetPlot; from cvglmnetPredict import cvglmnetPredict\n",
    "\n",
    "# parameters\n",
    "baseDataDir= '/glmnet_python/data/'\n",
    "\n"
   ]
  },
  {
   "cell_type": "code",
   "execution_count": 4,
   "metadata": {},
   "outputs": [],
   "source": [
    "\"\"\"\n",
    "construct data\n",
    "\"\"\"\n",
    "\n",
    "def get_datax(data, tau, offset=0):\n",
    "    \"\"\"\n",
    "    produces shifted copies of data\n",
    "    with tau depth\n",
    "    offset: include current timepoint or not # handle with care\n",
    "    \"\"\"\n",
    "    X = np.zeros((tau, len(data)-tau))\n",
    "\n",
    "    for i in range(0,tau):\n",
    "        X[i][:] = data[tau-i-offset:len(data)-i-offset]\n",
    "    return X.T\n",
    "\n",
    "\n",
    "\n",
    "def get_datax_new(data, tau):\n",
    "    \"\"\"\n",
    "    produces shifted copies of data\n",
    "    with tau depth\n",
    "    \"\"\"\n",
    "    X = np.zeros((len(data)-tau, tau))\n",
    "    #print(np.shape(X))\n",
    "    \n",
    "    for i in range(len(data)-tau):\n",
    "        X[:][i] = data[i:i+tau]\n",
    "    return X\n",
    "\n",
    "\n",
    "trialnr = 1\n",
    "\n",
    "\n",
    "# get stim component \n",
    "## including the current stimulus to predict (present)\n",
    "tau_stim = 11#tau\n",
    "x_stim = get_datax_new(stim_binary_binned, tau_stim)\n",
    "\n",
    "# get release component\n",
    "## only including the past\n",
    "tau_r = 10#tau\n",
    "# taking one data trace\n",
    "x_r = get_datax_new(r_binary[trialnr], tau_r)[:-1] \n",
    "# taking mean \n",
    "#x_r = get_datax(np.mean(r_binary, axis=0), tau_r)\n",
    "\n",
    "x = np.hstack([x_stim, x_r])#[:-1]\n",
    "\n",
    "# taking one data trace\n",
    "y = np.array(r_binary[trialnr])[tau_stim:]\n",
    "\n",
    "# taking mean\n",
    "#y = np.array(np.mean(r_binary, axis=0))[tau+1:]\n"
   ]
  },
  {
   "cell_type": "code",
   "execution_count": null,
   "metadata": {},
   "outputs": [],
   "source": [
    "\"\"\"\n",
    "fit the model\n",
    "\"\"\"\n",
    "#offset = np.ones(len(y))\n",
    "alpha = 0 # 1 is lasso, 0 is ridge \n",
    "\n",
    "fit = glmnet(x = x.copy(), y = y.copy(), family = 'poisson', alpha=alpha)#, offset=offset.copy())"
   ]
  },
  {
   "cell_type": "code",
   "execution_count": 67,
   "metadata": {},
   "outputs": [],
   "source": [
    "s = [0.02]\n",
    "\n",
    "coeff = glmnetCoef(fit, s = scipy.float64([s[0]]), exact = False)\n"
   ]
  },
  {
   "cell_type": "code",
   "execution_count": 69,
   "metadata": {},
   "outputs": [
    {
     "data": {
      "text/plain": [
       "<matplotlib.lines.Line2D at 0x7f3561266978>"
      ]
     },
     "execution_count": 69,
     "metadata": {},
     "output_type": "execute_result"
    },
    {
     "data": {
      "image/png": "[encoded data removed]",
      "text/plain": [
       "<Figure size 432x288 with 1 Axes>"
      ]
     },
     "metadata": {
      "needs_background": "light"
     },
     "output_type": "display_data"
    }
   ],
   "source": [
    "plt.plot(coeff[1:])\n",
    "plt.axvline(11, color='r')\n",
    "\n",
    "plt.axhline(0, color='r')"
   ]
  },
  {
   "cell_type": "code",
   "execution_count": 71,
   "metadata": {},
   "outputs": [],
   "source": [
    "\"\"\"\n",
    "reconstruction\n",
    "\"\"\"\n",
    "#That is, \n",
    "#* “link” (default) gives the linear predictors like others \n",
    "#* “response” gives the fitted mean \n",
    "#* “coefficients” computes the coefficients at the requested values for s\n",
    "\n",
    "fc = glmnetPredict(fit, \n",
    "                   x.copy(),\n",
    "                   #offset= np.array([offset]).T,\n",
    "                   ptype = 'response',\n",
    "                   s = scipy.float64([s[0]]))"
   ]
  },
  {
   "cell_type": "code",
   "execution_count": 77,
   "metadata": {},
   "outputs": [],
   "source": [
    "release_pred = np.zeros(len(r_binary[0])-tau_stim)\n"
   ]
  },
  {
   "cell_type": "code",
   "execution_count": 82,
   "metadata": {},
   "outputs": [
    {
     "data": {
      "text/plain": [
       "(11, 21)"
      ]
     },
     "execution_count": 82,
     "metadata": {},
     "output_type": "execute_result"
    }
   ],
   "source": [
    "np.shape(x[:tau_stim])"
   ]
  },
  {
   "cell_type": "code",
   "execution_count": 103,
   "metadata": {},
   "outputs": [],
   "source": [
    "\"\"\"\n",
    "run one evaluation\n",
    "\"\"\"\n",
    "\n",
    "# define variables\n",
    "release_pred = np.zeros(len(r_binary[0])-tau_stim)\n",
    "rate_pred = np.zeros(len(release_pred))\n",
    "\n",
    "# get initial prediction\n",
    "init_predict =  glmnetPredict(fit, \n",
    "                   x.copy()[:tau_stim],\n",
    "                   #offset= offset.T,\n",
    "                   ptype = 'response',\n",
    "                   s = scipy.float64([s[0]]))\n",
    "\n",
    "# initialize rate and release (based on experimental, without history effect)\n",
    "rate_pred[:tau] = init_predict[0]\n",
    "release_pred[:tau] = scp.stats.poisson.rvs(rate_pred[:tau])\n",
    "\n",
    "\n",
    "\n",
    "# iterate over time\n",
    "for t in range(tau_stim, len(release_pred)):\n",
    "    # define x taking actual release\n",
    "    x_temp_stim = x[t,:tau_stim]\n",
    "    x_temp_release = release_pred[t-tau_r:t]#[::-1] # invert to same direction as in training\n",
    "    x_temp = np.hstack([x_temp_stim, x_temp_release])\n",
    "    \n",
    "    # predict rate\n",
    "    rate_pred[t] =  glmnetPredict(fit, \n",
    "                                   np.array([x_temp]),\n",
    "                                   #offset= offset.T,\n",
    "                                   ptype = 'response',\n",
    "                                   s = scipy.float64([s[0]]))\n",
    "    \n",
    "    # sample from poisson\n",
    "    release_pred[t] = scp.stats.poisson.rvs(rate_pred[t])\n"
   ]
  },
  {
   "cell_type": "code",
   "execution_count": 111,
   "metadata": {},
   "outputs": [],
   "source": [
    "\"\"\"\n",
    "cross validation for \"best\" lambda\n",
    "\"\"\"\n",
    "\n",
    "warnings.filterwarnings('ignore')\n",
    "cvfit = cvglmnet(x = x.copy(), \n",
    "                 y = y.copy(), \n",
    "                 ptype = 'mse', \n",
    "                 nfolds = 4, \n",
    "                 family = 'poisson',\n",
    "                 alpha=alpha)\n",
    "                #offset=np.array([offset]).T)\n",
    "warnings.filterwarnings('default')\n",
    "\n",
    "# best\n",
    "x0 = cvfit['lambda_min']\n",
    "\n",
    "# most regularized model still in 1std\n",
    "x0_reg = cvfit['lambda_1se']"
   ]
  },
  {
   "cell_type": "code",
   "execution_count": 115,
   "metadata": {},
   "outputs": [
    {
     "data": {
      "image/png": "[encoded data removed]",
      "text/plain": [
       "<Figure size 432x288 with 2 Axes>"
      ]
     },
     "metadata": {
      "needs_background": "light"
     },
     "output_type": "display_data"
    }
   ],
   "source": [
    "f = plt.figure(figsize=(6,4))\n",
    "#f.add_subplot(2,2,1)\n",
    "cvglmnetPlot(cvfit)\n",
    "\n",
    "\n",
    "plt.tight_layout()"
   ]
  },
  {
   "cell_type": "markdown",
   "metadata": {},
   "source": [
    "#### iterate over trials"
   ]
  },
  {
   "cell_type": "code",
   "execution_count": 118,
   "metadata": {},
   "outputs": [],
   "source": [
    "\n",
    "alpha = 0 # 1 is lasso, 0 is ridge \n",
    "\n",
    "\n",
    "tau_stim = 11#tau\n",
    "tau_r = 10\n",
    "#tau = 10\n",
    "\n",
    "s=[0.02]\n",
    "\n",
    "x = []\n",
    "y = []\n",
    "fit = []\n",
    "coeff = []\n",
    "\n",
    "for trialnr in range(4):\n",
    "    \n",
    "    \n",
    "    rialnr = 1\n",
    " \n",
    "    \n",
    "    # get stim component\n",
    "    ## including the current stimulus to predict (present)\n",
    "    x_stim = get_datax_new(stim_binary_binned, tau_stim)\n",
    "\n",
    "    # get release component\n",
    "    ## only including the past\n",
    "    # taking one data trace\n",
    "    x_r = get_datax_new(r_binary[trialnr], tau_r)[:-1] # [:,tau-tau_r:]\n",
    "   \n",
    "    x.append(np.hstack([x_stim, x_r]))\n",
    "\n",
    "    # taking one data trace\n",
    "    y.append(np.array(r_binary[trialnr])[tau_stim:])\n",
    "    \n",
    "    \"\"\"\n",
    "    fit the model\n",
    "    \"\"\"\n",
    "    #offset = np.ones(len(y))\n",
    "    #alpha = 0 # 1 is lasso, 0 is ridge \n",
    "\n",
    "    fit.append(glmnet(x = x[trialnr].copy(), y = y[trialnr].copy(), family = 'poisson', alpha=alpha))\n",
    "    \n",
    "    coeff.append(glmnetCoef(fit[trialnr], s = scipy.float64([s[0]]), exact = False))"
   ]
  },
  {
   "cell_type": "code",
   "execution_count": 119,
   "metadata": {},
   "outputs": [],
   "source": [
    "coeff = []\n",
    "\n",
    "for trialnr in range(4):\n",
    "\n",
    "    #s = [0.01]\n",
    "    coeff.append(glmnetCoef(fit[trialnr], s = scipy.float64([s[0]]), exact = False))"
   ]
  },
  {
   "cell_type": "code",
   "execution_count": 121,
   "metadata": {},
   "outputs": [
    {
     "data": {
      "text/plain": [
       "<matplotlib.lines.Line2D at 0x7f34d44562b0>"
      ]
     },
     "execution_count": 121,
     "metadata": {},
     "output_type": "execute_result"
    },
    {
     "data": {
      "image/png": "[encoded data removed]",
      "text/plain": [
       "<Figure size 432x288 with 1 Axes>"
      ]
     },
     "metadata": {
      "needs_background": "light"
     },
     "output_type": "display_data"
    }
   ],
   "source": [
    "for i in range(4):\n",
    "    plt.plot(coeff[i][1:])\n",
    "    \n",
    "plt.plot(np.mean(coeff, axis=0)[1:], '--')\n",
    "\n",
    "plt.axvline(tau_stim)\n",
    "\n",
    "    \n",
    "#plt.plot(coeff_mean, '--',color='r')"
   ]
  },
  {
   "cell_type": "code",
   "execution_count": 123,
   "metadata": {},
   "outputs": [],
   "source": [
    "def predict_one(fit, x,tau_stim=11, tau_r=10, s=[0.02] ):\n",
    "    \"\"\"\n",
    "    fit: fitted glm \n",
    "    x: data used to fit glm (needed for initialization)\n",
    "    tau: timesteps to include \n",
    "    s: lambda value for glm\n",
    "    \"\"\"\n",
    "    # define variables\n",
    "    release_pred = np.zeros(len(r_binary[0])-tau_stim)\n",
    "    rate_pred = np.zeros(len(release_pred))\n",
    "\n",
    "    # get initial prediction\n",
    "    init_predict =  glmnetPredict(fit, \n",
    "                       x.copy()[:tau_stim],\n",
    "                       #offset= offset.T,\n",
    "                       ptype = 'response',\n",
    "                       s = scipy.float64([s[0]]))\n",
    "\n",
    "    # initialize rate and release (based on experimental, without history effect)\n",
    "    rate_pred[:tau] = init_predict[0]\n",
    "    release_pred[:tau] = scp.stats.poisson.rvs(rate_pred[:tau])\n",
    "\n",
    "\n",
    "\n",
    "    # iterate over time\n",
    "    for t in range(tau_stim, len(release_pred)):\n",
    "        # define x taking actual release\n",
    "        x_temp_stim = x[t,:tau_stim]\n",
    "        x_temp_release = release_pred[t-tau_r:t]#[::-1] # invert to same direction as in training\n",
    "        x_temp = np.hstack([x_temp_stim, x_temp_release])\n",
    "\n",
    "        # predict rate\n",
    "        rate_pred[t] =  glmnetPredict(fit, \n",
    "                                       np.array([x_temp]),\n",
    "                                       #offset= offset.T,\n",
    "                                       ptype = 'response',\n",
    "                                       s = scipy.float64([s[0]]))\n",
    "\n",
    "        # sample from poisson\n",
    "        release_pred[t] = scp.stats.poisson.rvs(rate_pred[t])\n",
    "        \n",
    "    return release_pred\n"
   ]
  },
  {
   "cell_type": "code",
   "execution_count": 125,
   "metadata": {},
   "outputs": [
    {
     "name": "stdout",
     "output_type": "stream",
     "text": [
      "finished trialnr: 0\n",
      "finished trialnr: 1\n",
      "finished trialnr: 2\n",
      "finished trialnr: 3\n"
     ]
    }
   ],
   "source": [
    "\"\"\"\n",
    "run multiple evaluation\n",
    "\n",
    "m simulations for each fit trialnr/nfit\n",
    "\"\"\"\n",
    "\n",
    "m = 4\n",
    "nfit = 4\n",
    "\n",
    "\n",
    "predictions = np.ones((nfit,m, len(y[0])))\n",
    "\n",
    "for trialnr in range(nfit):\n",
    "    for i in range(m):\n",
    "        predictions[trialnr, i] = predict_one(fit[trialnr], x[trialnr], s=s, tau_r=tau_r, tau_stim=tau_stim)\n",
    "    print('finished trialnr:', trialnr)\n",
    "\n"
   ]
  },
  {
   "cell_type": "code",
   "execution_count": 160,
   "metadata": {},
   "outputs": [],
   "source": [
    "\"\"\"\n",
    "flatten and choose predictions\n",
    "\"\"\"\n",
    "nr_per_trial = 3\n",
    "nr_trials = 4\n",
    "\n",
    "predictions_flatten = []\n",
    "\n",
    "for i in range(nr_trials):\n",
    "    for j in range(nr_per_trial):\n",
    "        predictions_flatten.append(predictions[i,j])\n",
    "        \n",
    "predictions_flatten = np.array(predictions_flatten)\n",
    "\n",
    "\"\"\"\n",
    "save predictions\n",
    "\"\"\"\n",
    "\n",
    "import pickle\n",
    "\n",
    "dictname={'glm_predictions':predictions_flatten}\n",
    "\n",
    "with open(\"glm_predictions.pkl\", \"wb\") as f:\n",
    "    pickle.dump(dictname, f)\n"
   ]
  },
  {
   "cell_type": "code",
   "execution_count": 127,
   "metadata": {},
   "outputs": [
    {
     "data": {
      "image/png": "[encoded data removed]",
      "text/plain": [
       "<Figure size 432x288 with 1 Axes>"
      ]
     },
     "metadata": {
      "needs_background": "light"
     },
     "output_type": "display_data"
    }
   ],
   "source": [
    "for i in range(nfit):\n",
    "    sns.distplot(predictions[i][predictions[i]>0], kde=False)"
   ]
  },
  {
   "cell_type": "code",
   "execution_count": 136,
   "metadata": {},
   "outputs": [],
   "source": [
    "\"\"\"\n",
    "specify summary stats\n",
    "\n",
    "for n>1\n",
    "\"\"\"\n",
    "\n",
    "data=r_binary[:,tau:-2]\n",
    "\n",
    "nSS = 9\n",
    "\n",
    "\n",
    "## specify kernel to compare traces\n",
    "g = scipy.signal.gaussian(10,2)\n",
    "\n",
    "\n",
    "# number of recorded traces\n",
    "nTrue = len(data)\n",
    "\n",
    "lenData = len(data[0])\n",
    "trueG = np.zeros((nTrue,lenData+len(g)-1))\n",
    "\n",
    "for i in range(nTrue):\n",
    "    trueG[i,:] = scipy.signal.convolve(data[i],g)\n",
    "  \n",
    "\n",
    "# specify weights for summary stats\n",
    "unweighted_data_SS = makeSS(data,g,trueG, w = np.ones(nSS))\n",
    "# normalizing factor\n",
    "w_norm = 1/unweighted_data_SS\n",
    "w_norm[np.isinf(w_norm)] = 1/48 #(1/48 mean value for the recorded traces)\n",
    "#scaling factor for each sums stat\n",
    "w_scale =  np.ones(len(unweighted_data_SS))\n",
    "w_scale[0] = 5 # conv\n",
    "w_scale[1] = 5 # sum of all\n",
    "w_scale[2] = 5 # 1-fold\n",
    "w_scale[3] = 5 # 2-fold\n",
    "w_scale[4] = 2 # 4-fold\n",
    "w_scale[5] = 2 # 5 fold\n",
    "w_scale[6] = 4 # 6 fold\n",
    "w_scale[7] = 2 # std\n",
    "\n",
    "# final w \n",
    "w = w_norm * w_scale\n",
    "\n",
    "dataSS = makeSS(data,g,trueG,w)\n",
    "\n",
    "\n",
    "    \n",
    "    \n",
    "    \n",
    " "
   ]
  },
  {
   "cell_type": "code",
   "execution_count": 137,
   "metadata": {
    "code_folding": [
     71,
     93
    ]
   },
   "outputs": [
    {
     "data": {
      "text/plain": [
       "'\\ndef pairwise_loss(data,g, w, mode, fit=None):\\n    \"\"\"\\n    calculates the all-1 vs one\\n    if mode=data: between data traces ( 1 vs rest, iterating over data)\\n    if mode=fit: between data and fit (1 data, vs rest, iterating over data)\\n    \"\"\"\\n    w = np.copy(w)\\n \\n    nsumstats=9\\n    if mode==\\'data\\':\\n        nr_pairs = int(scp.special.binom(len(data),2))\\n        dists = np.zeros(nr_pairs)\\n        \\n        count=0\\n        for i in range(len(data)):\\n            for j in range(i+1,len(data)):\\n                trueG = scipy.signal.convolve(data[i],g)\\n                dataSS = makeSS(data[i],g,trueG,w)\\n                #print(dataSS)\\n                fitSS = makeSS(data[j], g, trueG,w) \\n                #print(fitSS)\\n                #print()\\n                dists[count] = scipy.spatial.distance.euclidean(fitSS, dataSS)\\n                count+=1\\n\\n        \\n    elif mode==\\'fit\\':   \\n        nr_pairs = len(data)*len(fit)\\n        dists = np.zeros(nr_pairs)\\n        \\n        count=0\\n        for i in range(len(data)):\\n            for j in range(len(fit)):\\n                trueG = scipy.signal.convolve(data[i],g)\\n                dataSS = makeSS(data[i],g,trueG,w)\\n                #print(dataSS)\\n                fitSS = makeSS(fit[j], g, trueG,w) \\n                #print(fitSS)\\n                #print()\\n                dists[count] = scipy.spatial.distance.euclidean(fitSS, dataSS)\\n                count+=1\\n    else:\\n        print(\\'this mode is not yet implemented. choose fit or data.\\')\\n              \\n    return dists\\n    '"
      ]
     },
     "execution_count": 137,
     "metadata": {},
     "output_type": "execute_result"
    }
   ],
   "source": [
    "\n",
    "def plot_event_histo(data,  sumstatnames = ['1-q','2-q','3-q','4-q','5-q','6-q','7-q' ],\n",
    "                     color='b',\n",
    "                    alpha=1,\n",
    "                    errcolor='black',\n",
    "                    label=None):\n",
    "    \"\"\"\n",
    "    :param data: array (ntraces, release)\n",
    "    :param figsize:\n",
    "    :param sumstatnames:\n",
    "    :param color:\n",
    "    :param alpha:\n",
    "    :param errcolor:\n",
    "    :return:\n",
    "    \"\"\"\n",
    "\n",
    "    dn = np.zeros((len(data),7))\n",
    "    for i in range(len(data)):\n",
    "        #dn[i,0]= np.sum(data[i])\n",
    "        for j in range(0,7):\n",
    "            dn[i,j]= np.sum(data[i]==j+1)\n",
    "\n",
    "    df = pd.DataFrame(dn)\n",
    "\n",
    "    df.columns = sumstatnames\n",
    "    \n",
    "\n",
    "\n",
    "    #sns.set_context(\"notebook\")\n",
    "    #sns.set_style(\"white\")\n",
    "\n",
    "\n",
    "    #plt.figure(1, figsize=(10,6))\n",
    "    ax = sns.barplot( data=df,  ci='sd',capsize=.2, errwidth=2, estimator=np.mean,\n",
    "                     color=color,\n",
    "                     alpha=alpha,\n",
    "                     errcolor=errcolor,\n",
    "                    label=label)\n",
    "    plt.xlabel('event type')\n",
    "    plt.ylabel('count')\n",
    "    plt.legend()\n",
    "    sns.despine()\n",
    "\n",
    "\n",
    "def plot_pairwise_loss_comparison(data, fit,w, colordata='r', colorfit='b', alpha=0.5):\n",
    "    g = scp.signal.gaussian(10, 2)\n",
    "\n",
    "    fitloss = pairwise_loss(data, g, w, mode='fit', fit=fit)\n",
    "    dataloss = pairwise_loss(data, g, w, mode='data')\n",
    "    \n",
    "    sns.set_style('ticks')\n",
    "    # data\n",
    "    df = pd.DataFrame(dataloss)\n",
    "    df.columns = [None]\n",
    "    ax = sns.barplot(data=df, ci='sd', capsize=.2, errwidth=2, estimator=np.mean,\n",
    "                     color=colordata,\n",
    "                     alpha=alpha,\n",
    "                     errcolor='r',\n",
    "                     label='data')\n",
    "\n",
    "    # fit\n",
    "    df = pd.DataFrame(fitloss)\n",
    "    df.columns = [None]\n",
    "    ax = sns.barplot(data=df, ci='sd', capsize=.2, errwidth=2, estimator=np.mean,\n",
    "                     color=colorfit,\n",
    "                     alpha=alpha,\n",
    "                     errcolor='b',\n",
    "                     label='fit')\n",
    "\n",
    "    sns.despine()\n",
    "    plt.xlabel('discrepancy')\n",
    "    \n",
    "    print(fitloss)\n",
    "\n",
    "\n",
    "def plot_event_loss_histo_comprison(data, fit,w, alpha=0.5, label='data', color='r', errcolor='r'):\n",
    "    plt.figure(1, figsize=(6, 3))\n",
    "\n",
    "    gs = gridspec.GridSpec(1, 2, width_ratios=[7, 1])\n",
    "    ax0 = plt.subplot(gs[0])\n",
    "    # plt.subplot(121)\n",
    "    plot_event_histo(data, alpha=0.5, label='data', color='r', errcolor='r')\n",
    "    plot_event_histo(fit, alpha=0.5, label='fit', color='b', errcolor='b')\n",
    "    ax1 = plt.subplot(gs[1])\n",
    "    plot_pairwise_loss_comparison(data, fit,w)\n",
    "\n",
    "# plot_event_loss_histo_comprison(data,fit)\n",
    "\n",
    "\"\"\"\n",
    "new version: \"pairwise loss\"\n",
    "rest vs 1\n",
    "\n",
    "\n",
    "TAKE THIS AS BEST APPROXIMATION TO MEAN\n",
    "\"\"\"\n",
    "\n",
    "\n",
    "def pairwise_loss(data, g, w, mode, fit=None):\n",
    "    \"\"\"\n",
    "    calculates the all-1 vs one\n",
    "    if mode=data: between data traces ( mean of all-1 vs one)\n",
    "    if mode=fit: between data and fit (mean data vs one fit)\n",
    "    \"\"\"\n",
    "    w = np.copy(w)\n",
    "    #w[0] = 0.062\n",
    "    w[-1] = 0\n",
    "    nsumstats = 9\n",
    "    if mode == 'data':\n",
    "        fitSS = np.zeros((len(data), nsumstats))\n",
    "        dists = np.zeros(len(data))\n",
    "        trueG = np.zeros((len(data) - 1, len(data[0]) + len(g) - 1))\n",
    "\n",
    "        for i in range(len(data)):\n",
    "            a = list(range(len(data)))\n",
    "            a.pop(i)\n",
    "\n",
    "            count = 0\n",
    "            for j in a:  # all data except one (i-th)\n",
    "                trueG[count] = scipy.signal.convolve(data[j], g)\n",
    "                count += 1\n",
    "            dataSS = makeSS(data[np.arange(len(data)) != i], g, trueG, w)\n",
    "            # print(dataSS)\n",
    "            fitSS[i] = makeSS(data[i], g, trueG, w)\n",
    "            # print(fitSS[i])\n",
    "            # print()\n",
    "            dists[i] = scipy.spatial.distance.euclidean(fitSS[i], dataSS)\n",
    "\n",
    "\n",
    "\n",
    "    elif mode == 'fit':\n",
    "        fitSS = np.zeros((len(fit), nsumstats))\n",
    "        dists = np.zeros(len(fit))\n",
    "        trueG = np.zeros((len(data), len(data[0]) + len(g) - 1))\n",
    "\n",
    "        for i in range(len(data)):\n",
    "            trueG[i, :] = scipy.signal.convolve(data[i], g)\n",
    "        for i in range(len(fit)):\n",
    "            # trueG = scipy.signal.convolve(data,g)\n",
    "            dataSS = makeSS(data, g, trueG, w)\n",
    "            #print(dataSS)\n",
    "           # print(w)\n",
    "            fitSS[i] = makeSS(fit[i], g, trueG, w)  # take all fitted traces\n",
    "            # print(fitSS[i])\n",
    "            # print()\n",
    "            dists[i] = scipy.spatial.distance.euclidean(fitSS[i], dataSS)\n",
    "\n",
    "    else:\n",
    "        print('this mode is not yet implemented. choose fit or data.')\n",
    "\n",
    "    return dists\n",
    "\n",
    "\n"
   ]
  },
  {
   "cell_type": "code",
   "execution_count": 141,
   "metadata": {},
   "outputs": [
    {
     "name": "stdout",
     "output_type": "stream",
     "text": [
      "[16.77280618 14.71669694 15.67570931 14.97515755]\n"
     ]
    },
    {
     "data": {
      "image/png": "[encoded data removed]",
      "text/plain": [
       "<Figure size 432x216 with 2 Axes>"
      ]
     },
     "metadata": {
      "needs_background": "light"
     },
     "output_type": "display_data"
    }
   ],
   "source": [
    "\"\"\"\n",
    "show result for one fitted trial\n",
    "\"\"\"\n",
    "\n",
    "nfit = 0\n",
    "\n",
    "w_scale_one = np.ones(9)\n",
    "\n",
    "w = w_norm * w_scale\n",
    "\n",
    "\n",
    "plot_event_loss_histo_comprison(data,predictions[nfit], w)\n"
   ]
  },
  {
   "cell_type": "code",
   "execution_count": 142,
   "metadata": {},
   "outputs": [
    {
     "name": "stdout",
     "output_type": "stream",
     "text": [
      "[16.77280618 19.02662376 18.47250922 17.2746211 ]\n"
     ]
    },
    {
     "data": {
      "image/png": "[encoded data removed]",
      "text/plain": [
       "<Figure size 432x216 with 2 Axes>"
      ]
     },
     "metadata": {},
     "output_type": "display_data"
    }
   ],
   "source": [
    "\"\"\"\n",
    "take one simulation of each fit\n",
    "\"\"\"\n",
    "\n",
    "sim_nr = 0\n",
    "\n",
    "w_scale_one = np.ones(9)\n",
    "\n",
    "w = w_norm * w_scale\n",
    "\n",
    "\n",
    "plot_event_loss_histo_comprison(data,predictions[:,sim_nr], w)\n"
   ]
  },
  {
   "cell_type": "code",
   "execution_count": 25,
   "metadata": {},
   "outputs": [
    {
     "data": {
      "image/png": "[encoded data removed]",
      "text/plain": [
       "<Figure size 432x216 with 2 Axes>"
      ]
     },
     "metadata": {
      "needs_background": "light"
     },
     "output_type": "display_data"
    }
   ],
   "source": [
    "\"\"\"\n",
    "take one simulation of each fit\n",
    "\"\"\"\n",
    "\n",
    "sim_nr = 0\n",
    "\n",
    "w_scale_one = np.ones(9)\n",
    "\n",
    "w = w_norm * w_scale\n",
    "\n",
    "\n",
    "plot_event_loss_histo_comprison(data,predictions[:,sim_nr], w)\n",
    "\n",
    "\n",
    "filepath =  \"/gpfs01/berens/user/cschroeder/Documents/Biophysical Models/model_Ben/switching-git/NeurIPS/plots/baseline_model\"\n",
    "filename = 'sumstats_baseline.svg'\n",
    "plt.savefig(filepath + filename, dpi=300, format='svg')    \n"
   ]
  },
  {
   "cell_type": "code",
   "execution_count": 90,
   "metadata": {},
   "outputs": [
    {
     "name": "stdout",
     "output_type": "stream",
     "text": [
      "[16.42522615 21.27348883 17.69978452 18.00082586]\n"
     ]
    },
    {
     "data": {
      "image/png": "[encoded data removed]",
      "text/plain": [
       "<Figure size 432x216 with 2 Axes>"
      ]
     },
     "metadata": {},
     "output_type": "display_data"
    }
   ],
   "source": [
    "\"\"\"\n",
    "take one simulation of each fit\n",
    "\"\"\"\n",
    "\n",
    "sns.set_style('ticks')\n",
    "\n",
    "sim_nr = 0\n",
    "\n",
    "w_scale_one = np.ones(9)\n",
    "\n",
    "w = w_norm * w_scale\n",
    "\n",
    "\n",
    "plot_event_loss_histo_comprison(data,predictions[:,sim_nr], w)\n",
    "\n",
    "\n",
    "filepath =  \"/gpfs01/berens/user/cschroeder/Documents/Biophysical Models/model_Ben/switching-git/NeurIPS/plots/baseline_model\"\n",
    "filename = 'sumstats_baseline.svg'\n",
    "plt.savefig(filepath + filename, dpi=300, format='svg')    \n"
   ]
  },
  {
   "cell_type": "code",
   "execution_count": 26,
   "metadata": {},
   "outputs": [
    {
     "data": {
      "image/png": "[encoded data removed]",
      "text/plain": [
       "<Figure size 576x216 with 5 Axes>"
      ]
     },
     "metadata": {},
     "output_type": "display_data"
    }
   ],
   "source": [
    "\n",
    "predictions_n = predictions[1]\n",
    "\n",
    "sns.set_context(\"notebook\")\n",
    "S0 = 5000\n",
    "S = 6170\n",
    "\n",
    "t_plot = np.arange(0, S*10-S0*10)/1000\n",
    "\n",
    "plt.figure(1, figsize=(8,3)) # 10 4\n",
    "\n",
    "# plot fitted\n",
    "yscalebar=False\n",
    "count=0\n",
    "for i in [1,2]: # [6,2]\n",
    "    ax=plt.subplot(5,1,count+1)\n",
    "    if i==0:\n",
    "        yscalebar=True\n",
    "    plot_raster1_new(ax,predictions_n[i,S0:S],  color='b',  label='fit', scalebar=yscalebar, scalebarcolor='black')\n",
    "    yscalebar=False\n",
    "    count+=1\n",
    "\n",
    "plt.legend()\n",
    "\n",
    "# plot data traces\n",
    "yscalebar=False\n",
    "count=0\n",
    "for i in [0,1]: #0,3\n",
    "    ax=plt.subplot(5,1,count+2+1)\n",
    "    if count==1:\n",
    "        yscalebar=True\n",
    "    plot_raster1_new(ax,data[i,S0:S],  color='r',  label='data', scalebar=yscalebar, scalebarcolor='black')\n",
    "    count+=1\n",
    "plt.legend()\n",
    "\n",
    "# plot stimulus\n",
    "ax=plt.subplot(5,1,5)\n",
    "plt.plot(t_plot, light[S0*10:S*10], color='black')\n",
    "ax.spines['left'].set_visible(False)\n",
    "ax.spines['right'].set_visible(False)\n",
    "ax.spines['top'].set_visible(False)\n",
    "ax.spines['bottom'].set_visible(False)\n",
    "plt.xlim(t_plot[0], t_plot[-1])\n",
    "\n",
    "#sns.despine()\n",
    "plt.yticks([])\n",
    "plt.xticks([])\n",
    "#plt.xlabel('sec')\n",
    "\n",
    "#scalebar\n",
    "scalebar = np.ones(len(t_plot)) * (-0.3)\n",
    "for i in range(len(scalebar)):\n",
    "    if i>len(scalebar) or i<len(scalebar)-1000: # 1 tpt is 1ms => 1000 = 1sec\n",
    "        scalebar[i] = np.nan\n",
    "\n",
    "plt.plot(t_plot, scalebar, linewidth=2, color = 'black' )\n",
    "plt.text(t_plot[-1]-1,-0.95,'1 sec')\n",
    "\n",
    "\n",
    "filepath =  \"/gpfs01/berens/user/cschroeder/Documents/Biophysical Models/model_Ben/switching-git/NeurIPS/plots/baseline_model\"\n",
    "filename = 'raster_baseline.svg'\n",
    "plt.savefig(filepath + filename, dpi=300, format='svg')    \n"
   ]
  },
  {
   "cell_type": "code",
   "execution_count": 162,
   "metadata": {},
   "outputs": [
    {
     "data": {
      "image/png": "[encoded data removed]",
      "text/plain": [
       "<Figure size 432x216 with 2 Axes>"
      ]
     },
     "metadata": {},
     "output_type": "display_data"
    }
   ],
   "source": [
    "# calc mean and std, excluding first offset beta_0\n",
    "coeff_std = np.std(coeff, axis=0).flatten()[1:]#[::-1]\n",
    "coeff_mean = np.mean(coeff, axis=0).flatten()[1:]#[::-1]\n",
    "    \n",
    "t_stim = -np.arange(tau_stim)*10 #- 0.01\n",
    "t_r = -np.arange(1,tau_r+1)*10 #- 0.01\n",
    "\n",
    "\n",
    "plt.figure(1, figsize=(6, 3))\n",
    "\n",
    "plt.subplot(121)\n",
    "# plot weights for stimulus\n",
    "plt.fill_between(t_stim,\n",
    "                 coeff_mean[:tau_stim][::-1]+coeff_std[:tau_stim][::-1],\n",
    "                 coeff_mean[:tau_stim][::-1]-coeff_std[:tau_stim][::-1],\n",
    "                 alpha=0.3,\n",
    "                 color='b', label='+-1std')\n",
    "    \n",
    "plt.plot(t_stim, coeff_mean[:tau_stim][::-1], color='b')\n",
    "plt.ylim(-1.3,1.6)\n",
    "plt.xlabel('ms')\n",
    "\n",
    "\n",
    "\n",
    "plt.subplot(122)\n",
    "# plot weights for spike history\n",
    "plt.fill_between(t_r,\n",
    "                 coeff_mean[-tau_r:][::-1]+coeff_std[-tau_r:][::-1],\n",
    "                 coeff_mean[-tau_r:][::-1]-coeff_std[-tau_r:][::-1],\n",
    "                 alpha=0.3,\n",
    "                 color='b', label='+-1std')\n",
    "    \n",
    "plt.plot(t_r, coeff_mean[-tau:][::-1], color='b')\n",
    "plt.ylim(-1.3,1.6)\n",
    "plt.xlabel('ms')\n",
    "plt.xticks([-100,-50,0])\n",
    "\n",
    "plt.tight_layout()\n",
    "\n",
    "sns.despine()\n",
    "\n",
    "#plt.plot(t, coeff[0][1:11], color='r')\n",
    "\n",
    "filepath =  \"/gpfs01/berens/user/cschroeder/Documents/Biophysical Models/model_Ben/switching-git/NeurIPS/plots/baseline_model/\"\n",
    "filename = 'weights_baseline_0819.svg'\n",
    "plt.savefig(filepath + filename, dpi=300, format='svg')    \n"
   ]
  },
  {
   "cell_type": "code",
   "execution_count": 163,
   "metadata": {},
   "outputs": [
    {
     "data": {
      "image/png": "[encoded data removed]",
      "text/plain": [
       "<Figure size 576x216 with 3 Axes>"
      ]
     },
     "metadata": {},
     "output_type": "display_data"
    }
   ],
   "source": [
    "S0= 1600#1150\n",
    "S = 2105#1592\n",
    "\n",
    "t = np.arange(S*10-S0*10)/1000\n",
    "\n",
    "sns.set_style('ticks')\n",
    "\n",
    "plt.figure(1, figsize=(8,3))\n",
    "\n",
    "\n",
    "gs = gridspec.GridSpec(2, 1,height_ratios =[4, 1])\n",
    "ax0_0 = plt.subplot(gs[0])\n",
    "\n",
    "#plt.plot(r_binary[0][S0+tau: S+tau], color='r', label='data', alpha=1)\n",
    "ax0_0.plot(rate_pred[S0:S], color='darkorange',label='mean rate')\n",
    "\n",
    "plt.legend()\n",
    "\n",
    "#plt.yticks([0,1])\n",
    "plt.xticks([])\n",
    "\n",
    "#combine axis\n",
    "ax0_1 = ax0_0.twinx()\n",
    "ax0_1.plot(release_pred[S0:S], label='sample', color='b', alpha=0.7)\n",
    "\n",
    "ax0_1.spines['top'].set_visible(False)\n",
    "ax0_0.spines['top'].set_visible(False)\n",
    "\n",
    "plt.legend()\n",
    "################################################\n",
    "ax1 = plt.subplot(gs[1])\n",
    "#ax0_0.plot(stim_binary_binned[S0+tau: S+tau],color='black' ,alpha=1, label='stimulus')\n",
    "ax1.plot(t,stim_binary[S0*10+tau*10: S*10+tau*10],color='black' ,alpha=1, label='stimulus')\n",
    "\n",
    "\n",
    "\n",
    "'''\n",
    "#scalebar\n",
    "scalebar = np.ones(len(t)) * (-0.3)\n",
    "for i in range(len(scalebar)):\n",
    "    if i>len(scalebar) or i<len(scalebar)-1000: # 1 tpt is 1ms => 1000 = 1sec\n",
    "        scalebar[i] = np.nan\n",
    "\n",
    "plt.plot(t, scalebar, linewidth=2, color = 'black' )\n",
    "plt.text(t[-1]-1,-0.95,'1 sec')\n",
    "'''\n",
    "\n",
    "ax1.spines['top'].set_visible(False)\n",
    "ax1.spines['right'].set_visible(False)\n",
    "#ax1.spines['left'].set_visible(False)\n",
    "#ax1.spines['bottom'].set_visible(False)\n",
    "\n",
    "plt.xticks([0,1,2,3,4])\n",
    "#plt.yticks([])\n",
    "#sns.despine()\n",
    "plt.xlabel('sec')\n",
    "\n",
    "\n",
    "plt.tight_layout()\n",
    "\n",
    "#plt.ylim(0,2)\n",
    "\n",
    "\n",
    "filepath =  \"/gpfs01/berens/user/cschroeder/Documents/Biophysical Models/model_Ben/switching-git/NeurIPS/plots/baseline_model/\"\n",
    "filename = 'predicted_rate_baseline_0819.svg'\n",
    "plt.savefig(filepath + filename, dpi=300, format='svg')   \n",
    "\n"
   ]
  }
 ],
 "metadata": {
  "kernelspec": {
   "display_name": "Python 3",
   "language": "python",
   "name": "python3"
  },
  "language_info": {
   "codemirror_mode": {
    "name": "ipython",
    "version": 3
   },
   "file_extension": ".py",
   "mimetype": "text/x-python",
   "name": "python",
   "nbconvert_exporter": "python",
   "pygments_lexer": "ipython3",
   "version": "3.6.7"
  },
  "varInspector": {
   "cols": {
    "lenName": 16,
    "lenType": 16,
    "lenVar": 40
   },
   "kernels_config": {
    "python": {
     "delete_cmd_postfix": "",
     "delete_cmd_prefix": "del ",
     "library": "var_list.py",
     "varRefreshCmd": "print(var_dic_list())"
    },
    "r": {
     "delete_cmd_postfix": ") ",
     "delete_cmd_prefix": "rm(",
     "library": "var_list.r",
     "varRefreshCmd": "cat(var_dic_list()) "
    }
   },
   "types_to_exclude": [
    "module",
    "function",
    "builtin_function_or_method",
    "instance",
    "_Feature"
   ],
   "window_display": false
  }
 },
 "nbformat": 4,
 "nbformat_minor": 2
}
