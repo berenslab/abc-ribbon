{
 "cells": [
  {
   "cell_type": "code",
   "execution_count": 1,
   "metadata": {},
   "outputs": [],
   "source": [
    "import scipy as scp\n",
    "import numpy as np\n",
    "import h5py\n",
    "\n",
    "import seaborn as sns\n",
    "import matplotlib.pyplot as plt"
   ]
  },
  {
   "cell_type": "markdown",
   "metadata": {},
   "source": [
    "### Decription\n",
    "Preprocessed data (already disretized), for two cells, two stimuli (binary noise and discretized gauss noise).\n",
    "\n",
    "For cell 2 only binary stimulus.\n",
    "\n",
    "Be aware that the stimulus has a time resolution of 1ms but the response has bins of 10ms."
   ]
  },
  {
   "cell_type": "code",
   "execution_count": 19,
   "metadata": {},
   "outputs": [
    {
     "name": "stdout",
     "output_type": "stream",
     "text": [
      "dt[ms] for r = 10\n",
      "dt[ms] for stim = 1\n",
      "info: Stim and vesicle release of one cell, 4 recordings per stim, binned sum for r but raw for stim (dt=1)\n",
      "loading df/f for first cell:\n",
      "dt[ms] for dff = 1\n",
      "info: df/f for cell 1 (dt=1)\n"
     ]
    }
   ],
   "source": [
    "\"\"\"\n",
    "load data\n",
    "\"\"\"\n",
    "\n",
    "# choose cell\n",
    "filename = 'cell1.hdf5'\n",
    "#filename = 'cell2.hdf5'\n",
    "\n",
    "f = h5py.File(filename, 'r')\n",
    "\n",
    "for item in f.attrs:\n",
    "    print(item, f.attrs[item])\n",
    "    \n",
    "stim_binary = f['stim_binary'][:]\n",
    "r_binary = f['r_binary'][:]\n",
    "\n",
    "if filename=='cell1.hdf5':\n",
    "    stim_gauss = f['stim_gauss'][:]\n",
    "    r_gauss = f['r_gauss'][:]\n",
    "\n",
    "f.close()\n",
    "\n",
    "\n",
    "# choose data\n",
    "light = stim_gauss\n",
    "data = r_binary\n",
    "\n",
    "# stim time with time resolution of dt =1ms\n",
    "stimT = np.arange(0, len(light),1)/1000\n",
    "\n",
    "\n",
    "\n",
    "\"\"\"\n",
    "load df/f for first cell binary stimulus\n",
    "\"\"\"\n",
    "print('loading df/f for first cell:')\n",
    "\n",
    "filename = 'cell1_dff.hdf5'\n",
    "\n",
    "f = h5py.File(filename, 'r')\n",
    "\n",
    "for item in f.attrs:\n",
    "    print(item, f.attrs[item])\n",
    "    \n",
    "dff = f['dff_binary'][:]\n",
    "\n",
    "\n",
    "f.close()\n"
   ]
  },
  {
   "cell_type": "code",
   "execution_count": 10,
   "metadata": {},
   "outputs": [
    {
     "name": "stdout",
     "output_type": "stream",
     "text": [
      "Nr traces for binary stimulus: 4\n",
      "Nr traces for gauss stimulus: 4\n"
     ]
    }
   ],
   "source": [
    "\"\"\"\n",
    "number of traces per cell/experiment\n",
    "\"\"\"\n",
    "\n",
    "print('Nr traces for binary stimulus:', len(r_binary))\n",
    "print('Nr traces for gauss stimulus:', len(r_gauss))\n"
   ]
  },
  {
   "cell_type": "code",
   "execution_count": 11,
   "metadata": {},
   "outputs": [],
   "source": [
    "\"\"\"\n",
    "Helper for raster plot\n",
    "\"\"\"\n",
    "\n",
    "def plot_raster1_new(ax, trace, dt=0.01, color='b', offset=0, label=None, scalebar=False, scalebarcolor='b', \n",
    "                     normalize=True, upper=7):\n",
    "    \"\"\"\n",
    "    plots a raster of one trace, centered at offset\n",
    "    ---\n",
    "    trace: 1d trace containing the quantal events\n",
    "    dt: time resolution of trace in sec\n",
    "    normalize: all data is alway plotted to y-axis [0,upper]\n",
    "    \"\"\"\n",
    "    time = np.arange(0, len(trace)) * dt\n",
    "    timepts = time[trace != 0]\n",
    "    amps = trace[trace != 0]\n",
    "   \n",
    "    # version at baseline\n",
    "    ax.vlines(timepts, 0, amps + offset, color=color, label=label)\n",
    "\n",
    "    # plot scalebar\n",
    "    if scalebar:\n",
    "        ax.vlines(time[-3], 0, 5, color=scalebarcolor, linewidths=2)\n",
    "        plt.text(time[-3] + 0.3, 2, '5 vesicles')\n",
    "\n",
    "    plt.xlim(time[0], time[-1])\n",
    "    # plt.xlabel('sec')\n",
    "    plt.yticks([])\n",
    "    # plt.legend()\n",
    "    plt.xticks([])\n",
    "    # sns.despine()\n",
    "    \n",
    "    if normalize:\n",
    "        plt.ylim(0,upper)\n",
    "    ax.spines['left'].set_visible(False)\n",
    "    ax.spines['right'].set_visible(False)\n",
    "    ax.spines['top'].set_visible(False)\n",
    "    ax.spines['bottom'].set_visible(False)"
   ]
  },
  {
   "cell_type": "code",
   "execution_count": 13,
   "metadata": {
    "code_folding": [
     11
    ]
   },
   "outputs": [
    {
     "data": {
      "text/plain": [
       "Text(23.999, -0.5, '1 sec')"
      ]
     },
     "execution_count": 13,
     "metadata": {},
     "output_type": "execute_result"
    },
    {
     "data": {
      "image/png": "[encoded data removed]",
      "text/plain": [
       "<Figure size 1152x432 with 5 Axes>"
      ]
     },
     "metadata": {},
     "output_type": "display_data"
    }
   ],
   "source": [
    "\"\"\"\n",
    "plot data \n",
    "\"\"\"\n",
    "\n",
    "# choose number of traces (2 or 4 depending on data)\n",
    "ntraces =4\n",
    "\n",
    "sns.set_context(\"notebook\")\n",
    "\n",
    "# specify boundaries for plotting\n",
    "S0 = 4500\n",
    "S = 7000\n",
    "\n",
    "t_plot = np.arange(0, S*10-S0*10)/1000\n",
    "\n",
    "plt.figure(1, figsize=(16,6))\n",
    "\n",
    "\n",
    "# plot data traces\n",
    "yscalebar=False\n",
    "for i in range(ntraces):\n",
    "    ax=plt.subplot(7,1,i+2+1)\n",
    "    if i==1:\n",
    "        yscalebar=True\n",
    "    plot_raster1_new(ax,data[i,S0:S],  color='r',  label='data', scalebar=yscalebar, scalebarcolor='black')\n",
    "plt.legend()\n",
    "\n",
    "# plot stimulus\n",
    "ax=plt.subplot(7,1,7)\n",
    "plt.plot(t_plot, light[S0*10:S*10], color='black')\n",
    "ax.spines['left'].set_visible(False)\n",
    "ax.spines['right'].set_visible(False)\n",
    "ax.spines['top'].set_visible(False)\n",
    "ax.spines['bottom'].set_visible(False)\n",
    "plt.xlim(t_plot[0], t_plot[-1])\n",
    "\n",
    "#sns.despine()\n",
    "plt.yticks([])\n",
    "plt.xticks([])\n",
    "#plt.xlabel('sec')\n",
    "\n",
    "#scalebar\n",
    "scalebar = np.ones(len(t_plot)) * (-0.2)\n",
    "for i in range(len(scalebar)):\n",
    "    if i>len(scalebar) or i<len(scalebar)-1000: # 1 tpt is 1ms => 1000 = 1sec\n",
    "        scalebar[i] = np.nan\n",
    "\n",
    "plt.plot(t_plot, scalebar, linewidth=2, color = 'black' )\n",
    "plt.text(t_plot[-1]-1,-0.5,'1 sec')\n",
    "\n"
   ]
  },
  {
   "cell_type": "code",
   "execution_count": 21,
   "metadata": {},
   "outputs": [
    {
     "data": {
      "text/plain": [
       "Text(12.999, -1, '1 sec')"
      ]
     },
     "execution_count": 21,
     "metadata": {},
     "output_type": "execute_result"
    },
    {
     "data": {
      "image/png": "[encoded data removed]",
      "text/plain": [
       "<Figure size 432x216 with 5 Axes>"
      ]
     },
     "metadata": {},
     "output_type": "display_data"
    }
   ],
   "source": [
    "\"\"\"\n",
    "including dF/F\n",
    "\n",
    "CHECK if correct cell is chosen. \n",
    "only correct for cell1, binary stimulus.\n",
    "\"\"\"\n",
    "sns.set_context(\"notebook\")\n",
    "S0 = 3500 # in 10ms\n",
    "S = 4900\n",
    "\n",
    "stim=stim_binary\n",
    "\n",
    "t_plot = np.arange(0, S*10-S0*10)/1000\n",
    "\n",
    "plt.figure(1, figsize=(6,3))\n",
    "color=['r', 'r']\n",
    "\n",
    "# plot datatraces\n",
    "yscalebar=False\n",
    "for i in range(2):\n",
    "    ax=plt.subplot(5,1,i*2+1)\n",
    "    if i==1:\n",
    "        yscalebar=True\n",
    "    #plot discrete\n",
    "    plot_raster1_new(ax,data[i,S0:S],  color=color[i],  label='data', scalebar=yscalebar, scalebarcolor='black')\n",
    "\n",
    "    ax=plt.subplot(5,1,(i+1)*2)\n",
    "    # plot dF/F\n",
    "    plt.plot(t_plot, dff[i][S0*10:S*10],  color=color[i],  label='data')\n",
    "    ax.spines['left'].set_visible(False)\n",
    "    ax.spines['right'].set_visible(False)\n",
    "    ax.spines['top'].set_visible(False)\n",
    "    ax.spines['bottom'].set_visible(False)\n",
    "    plt.xticks([])\n",
    "    plt.yticks([])\n",
    "    plt.xlim(t_plot[0], t_plot[-1] )\n",
    "\n",
    "    \n",
    "    \n",
    "\n",
    "# plot stimulus\n",
    "ax=plt.subplot(5,1,5)\n",
    "plt.plot(t_plot, stim[S0*10:S*10], color='black')\n",
    "ax.spines['left'].set_visible(False)\n",
    "ax.spines['right'].set_visible(False)\n",
    "ax.spines['top'].set_visible(False)\n",
    "ax.spines['bottom'].set_visible(False)\n",
    "plt.xlim(t_plot[0], t_plot[-1] )\n",
    "\n",
    "#sns.despine()\n",
    "plt.yticks([])\n",
    "plt.xticks([])\n",
    "#plt.xlabel('sec')\n",
    "\n",
    "#scalebar\n",
    "scalebar = np.ones(len(t_plot)) * (-0.2)\n",
    "for i in range(len(scalebar)):\n",
    "    if i>len(scalebar) or i<len(scalebar)-1000: # 1 tpt is 1ms => 1000 = 1sec\n",
    "        scalebar[i] = np.nan\n",
    "\n",
    "plt.plot(t_plot, scalebar, linewidth=2, color = 'black' )\n",
    "plt.text(t_plot[-1]-1,-1,'1 sec')\n",
    "\n",
    "\n"
   ]
  },
  {
   "cell_type": "code",
   "execution_count": null,
   "metadata": {},
   "outputs": [],
   "source": []
  },
  {
   "cell_type": "code",
   "execution_count": null,
   "metadata": {},
   "outputs": [],
   "source": []
  }
 ],
 "metadata": {
  "kernelspec": {
   "display_name": "Python 3",
   "language": "python",
   "name": "python3"
  },
  "language_info": {
   "codemirror_mode": {
    "name": "ipython",
    "version": 3
   },
   "file_extension": ".py",
   "mimetype": "text/x-python",
   "name": "python",
   "nbconvert_exporter": "python",
   "pygments_lexer": "ipython3",
   "version": "3.6.7"
  }
 },
 "nbformat": 4,
 "nbformat_minor": 2
}
