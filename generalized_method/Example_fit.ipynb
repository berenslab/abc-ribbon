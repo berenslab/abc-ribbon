{
 "cells": [
  {
   "cell_type": "markdown",
   "metadata": {},
   "source": [
    "# Example\n",
    "\n",
    "A simple example of the presented ABC method for a 2d Gauss.\n",
    "\n",
    "All necessary functions are described."
   ]
  },
  {
   "cell_type": "code",
   "execution_count": 46,
   "metadata": {},
   "outputs": [],
   "source": [
    "import numpy as np\n",
    "import scipy as scp\n",
    "import scipy.stats\n",
    "\n",
    "import matplotlib.pyplot as plt"
   ]
  },
  {
   "cell_type": "markdown",
   "metadata": {},
   "source": [
    "## Specify model"
   ]
  },
  {
   "cell_type": "code",
   "execution_count": 185,
   "metadata": {},
   "outputs": [],
   "source": [
    "\"\"\"\n",
    "Example: 2d Gauss distribution\n",
    "\"\"\"\n",
    "\n",
    "def model(params):\n",
    "    # specify fixed covariance matrix\n",
    "    cov = np.eye(2)*2\n",
    "    cov[0,1] = -0.8\n",
    "    cov[1,0] = cov[0,1]\n",
    "    # \"evaluate\" model\n",
    "    x = scp.stats.multivariate_normal.rvs(params,cov=cov)\n",
    "    return x\n",
    "\n",
    "\"\"\"\n",
    "produce some data, from which we want to infer the mean parameteres\n",
    "\"\"\"\n",
    "\n",
    "# specify dimension and number of datapoints\n",
    "dim_data = 2\n",
    "ndata = 100\n",
    "\n",
    "# specify true means\n",
    "true_mean = np.array([1,5]) # length of dim_data\n",
    "\n",
    "# produce data\n",
    "data = np.zeros((ndata, dim_data))\n",
    "for i in range(ndata):\n",
    "    data[i] = model(true_mean)\n"
   ]
  },
  {
   "cell_type": "code",
   "execution_count": 168,
   "metadata": {},
   "outputs": [
    {
     "data": {
      "text/plain": [
       "(-10, 10)"
      ]
     },
     "execution_count": 168,
     "metadata": {},
     "output_type": "execute_result"
    },
    {
     "data": {
      "image/png": "[encoded data removed]",
      "text/plain": [
       "<Figure size 432x288 with 1 Axes>"
      ]
     },
     "metadata": {
      "needs_background": "light"
     },
     "output_type": "display_data"
    }
   ],
   "source": [
    "\"\"\"\n",
    "show data\n",
    "\"\"\"\n",
    "plt.plot(data[:,0],data[:,1], 'o')\n",
    "plt.plot(true_mean[0], true_mean[1],'o', color='r', label='true mean')\n",
    "plt.legend()\n",
    "plt.xlim(-10,10)\n",
    "plt.ylim(-10,10)"
   ]
  },
  {
   "cell_type": "markdown",
   "metadata": {},
   "source": [
    "## Specify summary statistics and loss function\n",
    "\n",
    "This is very model specific. There is a lot of literature on how to choose meaningful summary statistics. Including dimensionality reduction of summary statistics and automatic extraction.\n",
    "See for example \"Handbook of Approximate Bayesian Computation\" (Sisson, Fan, Beaumont, 2019).\n",
    "\n",
    "Here we just use the identity as summary statistic and the MSE to the observed data as loss function."
   ]
  },
  {
   "cell_type": "code",
   "execution_count": 186,
   "metadata": {},
   "outputs": [],
   "source": [
    "\"\"\"\n",
    "summary statistic and loss\n",
    "\"\"\"\n",
    "\n",
    "def extract_sumstat(trace):\n",
    "    return trace\n",
    "\n",
    "def loss(traces, sumstat_data):\n",
    "    # extract summary stats for traces\n",
    "    sumstat_traces = extract_sumstat(traces)\n",
    "    \n",
    "    n = len(sumstat_data)\n",
    "    m = len(sumstat_traces)\n",
    "    \n",
    "    # mean of pairwise distance\n",
    "    MSE_pairwise = np.zeros((n,m))\n",
    "    for i in range(n):\n",
    "        for j in range(m):\n",
    "            MSE_pairwise[i,j] = 1/(len(sumstat_data[0]))* np.sum( (sumstat_data[i]-sumstat_traces[j])**2)\n",
    "                \n",
    "    return np.mean(MSE_pairwise)\n",
    "\n",
    "\n",
    "# extract summary statistics for data\n",
    "sumstat_data = extract_sumstat(data)"
   ]
  },
  {
   "cell_type": "code",
   "execution_count": 190,
   "metadata": {},
   "outputs": [
    {
     "name": "stdout",
     "output_type": "stream",
     "text": [
      "Loss of true params: 4.348253805621021\n",
      "Loss of some params: 62.058619865427644\n"
     ]
    }
   ],
   "source": [
    "# evaluate model\n",
    "\n",
    "params = [-3,-5]\n",
    "ntraces = 50\n",
    "traces = np.zeros((ntraces, dim_data))\n",
    "for i in range(ntraces):\n",
    "    traces[i] = model(params)\n",
    "\n",
    "\n",
    "print('Loss of true params:',loss(data, sumstat_data))\n",
    "print('Loss of some params:',loss(traces, sumstat_data))"
   ]
  },
  {
   "cell_type": "code",
   "execution_count": 183,
   "metadata": {},
   "outputs": [
    {
     "data": {
      "text/plain": [
       "(-10, 10)"
      ]
     },
     "execution_count": 183,
     "metadata": {},
     "output_type": "execute_result"
    },
    {
     "data": {
      "image/png": "[encoded data removed]",
      "text/plain": [
       "<Figure size 432x288 with 1 Axes>"
      ]
     },
     "metadata": {
      "needs_background": "light"
     },
     "output_type": "display_data"
    }
   ],
   "source": [
    "\"\"\"\n",
    "show data and model evaluations\n",
    "\"\"\"\n",
    "plt.plot(traces[:,0],traces[:,1], 'o', color='orange', label='model')\n",
    "\n",
    "plt.plot(data[:,0],data[:,1], 'o', label='data', alpha=0.5)\n",
    "\n",
    "plt.plot(true_mean[0], true_mean[1],'o', color='r', label='true mean')\n",
    "plt.legend()\n",
    "plt.xlim(-10,10)\n",
    "plt.ylim(-10,10)"
   ]
  }
 ],
 "metadata": {
  "kernelspec": {
   "display_name": "Python 3",
   "language": "python",
   "name": "python3"
  },
  "language_info": {
   "codemirror_mode": {
    "name": "ipython",
    "version": 3
   },
   "file_extension": ".py",
   "mimetype": "text/x-python",
   "name": "python",
   "nbconvert_exporter": "python",
   "pygments_lexer": "ipython3",
   "version": "3.6.7"
  }
 },
 "nbformat": 4,
 "nbformat_minor": 2
}
