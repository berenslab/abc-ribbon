{
 "cells": [
  {
   "cell_type": "markdown",
   "metadata": {},
   "source": [
    "# Example\n",
    "\n",
    "A simple example of the presented ABC method for a 2d Gauss.\n",
    "\n",
    "All necessary functions are described."
   ]
  },
  {
   "cell_type": "code",
   "execution_count": 1,
   "metadata": {},
   "outputs": [],
   "source": [
    "import numpy as np\n",
    "import scipy as scp\n",
    "import scipy.stats\n",
    "\n",
    "import matplotlib.pyplot as plt"
   ]
  },
  {
   "cell_type": "markdown",
   "metadata": {},
   "source": [
    "## Specify model"
   ]
  },
  {
   "cell_type": "code",
   "execution_count": 253,
   "metadata": {},
   "outputs": [],
   "source": [
    "\"\"\"\n",
    "Example: 2d Gauss distribution\n",
    "\"\"\"\n",
    "\n",
    "def model(params):\n",
    "    # returns a \"trace\" of two values per gauss\n",
    "    # specify fixed covariance matrix\n",
    "    cov = np.eye(2)\n",
    "    cov[0,0] = 0.5\n",
    "    cov[1,1] = 1\n",
    "    cov[0,1] =-0.8\n",
    "    cov[1,0] = cov[0,1]\n",
    "    # \"evaluate\" model\n",
    "    x = scp.stats.multivariate_normal.rvs(params,cov=cov,size=1).T.flatten()\n",
    "    return x\n",
    "\n",
    "def model_mult(params_list, batchsize):\n",
    "    \"\"\"\n",
    "    this could be used to parallelize the model run\n",
    "    ---\n",
    "    runs the model for each parameterset in params_list batchsize times\n",
    "    \"\"\"\n",
    "    dim_data=2\n",
    "    nr_traces = len(params_list)\n",
    "    \n",
    "    traces = np.zeros((nr_traces, batchsize, dim_data))\n",
    "    for i in range(nr_traces):\n",
    "        for j in range(batchsize):\n",
    "            traces[i,j] = model(params_list[i])\n",
    "        \n",
    "    return traces\n",
    "    \n",
    "    \n",
    "\n",
    "\"\"\"\n",
    "produce some data, from which we want to infer the mean parameteres\n",
    "\"\"\"\n",
    "\n",
    "# specify dimension and number of datapoints\n",
    "dim_data = 2\n",
    "ndata = 100\n",
    "\n",
    "# specify true means\n",
    "true_mean = np.array([-1,5]) # length of dim_data\n",
    "\n",
    "# produce data\n",
    "data = np.zeros((ndata, dim_data))\n",
    "for i in range(ndata):\n",
    "    data[i] = model(true_mean)\n"
   ]
  },
  {
   "cell_type": "code",
   "execution_count": 199,
   "metadata": {},
   "outputs": [
    {
     "data": {
      "text/plain": [
       "2.039398494953896"
      ]
     },
     "execution_count": 199,
     "metadata": {},
     "output_type": "execute_result"
    }
   ],
   "source": [
    "np.std(data[:,1])"
   ]
  },
  {
   "cell_type": "code",
   "execution_count": 254,
   "metadata": {},
   "outputs": [
    {
     "data": {
      "text/plain": [
       "(-10, 10)"
      ]
     },
     "execution_count": 254,
     "metadata": {},
     "output_type": "execute_result"
    },
    {
     "data": {
      "image/png": "[encoded data removed]",
      "text/plain": [
       "<Figure size 432x288 with 1 Axes>"
      ]
     },
     "metadata": {
      "needs_background": "light"
     },
     "output_type": "display_data"
    }
   ],
   "source": [
    "\"\"\"\n",
    "show part of data\n",
    "\"\"\"\n",
    "plt.plot(data[:,0],data[:,1], 'o')\n",
    "plt.plot(true_mean[0], true_mean[1],'o', color='r', label='true mean')\n",
    "plt.legend()\n",
    "plt.xlim(-10,10)\n",
    "plt.ylim(-10,10)"
   ]
  },
  {
   "cell_type": "markdown",
   "metadata": {},
   "source": [
    "## Specify summary statistics and loss function\n",
    "\n",
    "This is very model specific. There is a lot of literature on how to choose meaningful summary statistics. Including dimensionality reduction of summary statistics and automatic extraction.\n",
    "See for example \"Handbook of Approximate Bayesian Computation\" (Sisson, Fan, Beaumont, 2019).\n",
    "\n",
    "Here we just use the mean of the first and the last two values as summary statistic and a (weighted) pairwise MSE to the observed data as loss function."
   ]
  },
  {
   "cell_type": "code",
   "execution_count": 206,
   "metadata": {},
   "outputs": [],
   "source": [
    "\"\"\"\n",
    "summary statistic and loss\n",
    "\"\"\"\n",
    "\n",
    "def extract_sumstat(traces):\n",
    "    #sumstats=np.zeros((len(traces),2))\n",
    "    #for i,trace in enumerate(traces):\n",
    "    #    sumstats[i] = np.array( [(trace[0]+trace[1])/2, (trace[2]+trace[3])/2])\n",
    "    #return sumstats\n",
    "    return traces\n",
    "    \n",
    "def loss(traces, sumstat_data, w =[None]):\n",
    "    \"\"\"\n",
    "    should return a ONE dimensional loss value\n",
    "    ---\n",
    "    w: optional weighting vector for the different summary statistics. default = 1 for all sumstats.\n",
    "    \"\"\"\n",
    "    \n",
    "    if w[0]==None:\n",
    "        w = np.ones(len(sumstat_data[0]))\n",
    "    \n",
    "    # extract summary stats for traces\n",
    "    sumstat_traces = extract_sumstat(traces)\n",
    "    \n",
    "    n = len(sumstat_data)\n",
    "    m = len(sumstat_traces)\n",
    "    \n",
    "    # mean of pairwise distance\n",
    "    MSE_pairwise = np.zeros((n,m))\n",
    "    for i in range(n):\n",
    "        for j in range(m):\n",
    "            MSE_pairwise[i,j] = 1/(len(sumstat_data[0]))* np.sum( (sumstat_data[i]-sumstat_traces[j])**2 * w)\n",
    "                \n",
    "    return np.mean(MSE_pairwise)\n",
    "\n",
    "\n"
   ]
  },
  {
   "cell_type": "code",
   "execution_count": 255,
   "metadata": {},
   "outputs": [
    {
     "data": {
      "text/plain": [
       "array([-1,  5])"
      ]
     },
     "execution_count": 255,
     "metadata": {},
     "output_type": "execute_result"
    }
   ],
   "source": [
    "true_mean"
   ]
  },
  {
   "cell_type": "code",
   "execution_count": 256,
   "metadata": {},
   "outputs": [
    {
     "name": "stdout",
     "output_type": "stream",
     "text": [
      "Loss of true params: 1.7678843025042223\n",
      "Loss of some params: 23.321700665762794\n"
     ]
    }
   ],
   "source": [
    "# define weightings for loss function\n",
    "w = np.array([1,1])\n",
    "\n",
    "# extract summary statistics for data\n",
    "sumstat_data = extract_sumstat(data)\n",
    "\n",
    "# evaluate model\n",
    "\n",
    "params = [-5,10]\n",
    "ntraces = 50\n",
    "traces = np.zeros((ntraces, dim_data))\n",
    "for i in range(ntraces):\n",
    "    traces[i] = model(params)\n",
    "\n",
    "\n",
    "print('Loss of true params:',loss(data, sumstat_data, w=w))\n",
    "print('Loss of some params:',loss(traces, sumstat_data, w=w))"
   ]
  },
  {
   "cell_type": "code",
   "execution_count": 258,
   "metadata": {},
   "outputs": [
    {
     "data": {
      "text/plain": [
       "(-10, 20)"
      ]
     },
     "execution_count": 258,
     "metadata": {},
     "output_type": "execute_result"
    },
    {
     "data": {
      "image/png": "[encoded data removed]",
      "text/plain": [
       "<Figure size 432x288 with 1 Axes>"
      ]
     },
     "metadata": {
      "needs_background": "light"
     },
     "output_type": "display_data"
    }
   ],
   "source": [
    "\"\"\"\n",
    "show data and model evaluations\n",
    "\"\"\"\n",
    "plt.plot(traces[:,0],traces[:,1], 'o', color='orange', label='model')\n",
    "\n",
    "plt.plot(data[:,0],data[:,1], 'o', label='data', alpha=0.5)\n",
    "\n",
    "plt.plot(true_mean[0], true_mean[1],'o', color='r', label='true mean')\n",
    "plt.legend()\n",
    "plt.xlim(-10,10)\n",
    "plt.ylim(-10,20)"
   ]
  },
  {
   "cell_type": "markdown",
   "metadata": {},
   "source": [
    "# Fitting procedure"
   ]
  },
  {
   "cell_type": "code",
   "execution_count": 17,
   "metadata": {},
   "outputs": [],
   "source": [
    "# import distribution updating and parameter drawing functions\n",
    "from abc_method import *"
   ]
  },
  {
   "cell_type": "markdown",
   "metadata": {},
   "source": [
    "### Initializing"
   ]
  },
  {
   "cell_type": "code",
   "execution_count": 42,
   "metadata": {},
   "outputs": [
    {
     "data": {
      "text/plain": [
       "array([-1,  5])"
      ]
     },
     "execution_count": 42,
     "metadata": {},
     "output_type": "execute_result"
    }
   ],
   "source": [
    "true_mean"
   ]
  },
  {
   "cell_type": "code",
   "execution_count": 259,
   "metadata": {},
   "outputs": [
    {
     "name": "stdout",
     "output_type": "stream",
     "text": [
      "[array([0, 0]), array([[400.,   0.],\n",
      "       [  0., 400.]]), 4, 4]\n"
     ]
    }
   ],
   "source": [
    "\"\"\"\n",
    "specify parameters for prior distribution\n",
    "\"\"\"\n",
    "\n",
    "\n",
    "def makeHypersPrior():\n",
    "    \"\"\"\n",
    "    :return: hyper parameters for the prior distributions\n",
    "    ---\n",
    "    the dimension k of the parameter space is indirectly specified here\n",
    "    \"\"\"\n",
    "\n",
    "    prior_means = np.array([0,0])\n",
    "    lambda0 = np.eye(2)*400 # approximatley cov of prior (param. for Inv-Wishart-distribution)\n",
    "    \n",
    "    # parameters for Inv-Wishart should be changed if the dimension k changes\n",
    "    kappa0 = 4 \n",
    "    nu0 = 4\n",
    "\n",
    "    hypers = [prior_means, lambda0, kappa0, nu0]\n",
    "    \n",
    "    return hypers\n",
    "\n",
    "\n",
    "prior_params = makeHypersPrior()\n",
    "\n",
    "print(prior_params)"
   ]
  },
  {
   "cell_type": "code",
   "execution_count": 260,
   "metadata": {},
   "outputs": [
    {
     "name": "stdout",
     "output_type": "stream",
     "text": [
      "\n",
      "run 0\n",
      "finished sampling, now run simulations...\n",
      "finished model evaluations.\n",
      "mean of accepted parameters: [-1.34043525  5.68896847]\n",
      "updated hypers: [array([-0.95745375,  4.06354891]), array([[406.77085998, -26.36020305],\n",
      "       [-26.36020305, 505.23975705]]), 14, 14]\n",
      "\n",
      "run 1\n",
      "finished sampling, now run simulations...\n",
      "finished model evaluations.\n",
      "mean of accepted parameters: [-1.06614706  4.93398707]\n",
      "updated hypers: [array([-1.0423704 ,  4.74357872]), array([[411.50521044, -25.62068665],\n",
      "       [-25.62068665, 514.21032427]]), 64, 64]\n",
      "\n",
      "run 2\n",
      "finished sampling, now run simulations...\n",
      "finished model evaluations.\n",
      "mean of accepted parameters: [-1.17535072  5.0278438 ]\n",
      "updated hypers: [array([-1.1006951 ,  4.86825638]), array([[415.01938586, -24.49009706],\n",
      "       [-24.49009706, 518.07030898]]), 114, 114]\n",
      "\n",
      "run 3\n",
      "finished sampling, now run simulations...\n",
      "finished model evaluations.\n",
      "mean of accepted parameters: [-1.2339595   5.10102713]\n",
      "updated hypers: [array([-1.14132449,  4.93922307]), array([[415.63860664, -25.57574987],\n",
      "       [-25.57574987, 519.98210417]]), 164, 164]\n",
      "\n",
      "run 4\n",
      "finished sampling, now run simulations...\n",
      "finished model evaluations.\n",
      "mean of accepted parameters: [-1.08554346  4.88829778]\n",
      "updated hypers: [array([-1.12829154,  4.92732464]), array([[425.06883492, -35.82132039],\n",
      "       [-35.82132039, 531.11714721]]), 214, 214]\n",
      "\n",
      "run 5\n",
      "finished sampling, now run simulations...\n",
      "finished model evaluations.\n",
      "mean of accepted parameters: [-1.03633033  5.01326903]\n",
      "updated hypers: [array([-1.11087464,  4.94360199]), array([[426.30267716, -36.97963013],\n",
      "       [-36.97963013, 533.8701487 ]]), 264, 264]\n",
      "\n",
      "run 6\n",
      "finished sampling, now run simulations...\n",
      "finished model evaluations.\n",
      "mean of accepted parameters: [-1.09716358  4.85989603]\n",
      "updated hypers: [array([-1.10869135,  4.93027301]), array([[433.50729777, -48.72265332],\n",
      "       [-48.72265332, 553.16888665]]), 314, 314]\n",
      "\n",
      "run 7\n",
      "finished sampling, now run simulations...\n",
      "finished model evaluations.\n",
      "mean of accepted parameters: [-1.15497583  4.95086448]\n",
      "updated hypers: [array([-1.11504911,  4.93310151]), array([[436.93411747, -55.16768575],\n",
      "       [-55.16768575, 565.48624067]]), 364, 364]\n",
      "\n",
      "run 8\n",
      "finished sampling, now run simulations...\n",
      "finished model evaluations.\n",
      "mean of accepted parameters: [-1.08210072  5.08533022]\n",
      "updated hypers: [array([-1.11106984,  4.95148662]), array([[448.51189605, -68.16186699],\n",
      "       [-68.16186699, 581.65041937]]), 414, 414]\n",
      "\n",
      "run 9\n",
      "finished sampling, now run simulations...\n",
      "finished model evaluations.\n",
      "mean of accepted parameters: [-0.98817962  5.02496701]\n",
      "updated hypers: [array([-1.09782736,  4.95940477]), array([[456.4425472 , -79.15106898],\n",
      "       [-79.15106898, 599.77475246]]), 464, 464]\n",
      "\n",
      "run 10\n",
      "finished sampling, now run simulations...\n",
      "finished model evaluations.\n",
      "mean of accepted parameters: [-1.06415633  4.98772188]\n",
      "updated hypers: [array([-1.09455196,  4.96215935]), array([[458.5229262 , -81.10706295],\n",
      "       [-81.10706295, 601.7802473 ]]), 514, 514]\n",
      "\n",
      "run 11\n",
      "finished sampling, now run simulations...\n",
      "finished model evaluations.\n",
      "mean of accepted parameters: [-1.07611384  5.01203007]\n",
      "updated hypers: [array([-1.09291738,  4.96658051]), array([[ 482.28688011, -124.53501418],\n",
      "       [-124.53501418,  681.4620116 ]]), 564, 564]\n",
      "\n",
      "run 12\n",
      "finished sampling, now run simulations...\n",
      "finished model evaluations.\n",
      "mean of accepted parameters: [-0.99516004  4.91953257]\n",
      "updated hypers: [array([-1.08495668,  4.96274925]), array([[ 483.12110331, -124.32548077],\n",
      "       [-124.32548077,  682.01154664]]), 614, 614]\n",
      "\n",
      "run 13\n",
      "finished sampling, now run simulations...\n",
      "finished model evaluations.\n",
      "mean of accepted parameters: [-1.09896505  5.00267086]\n",
      "updated hypers: [array([-1.08601153,  4.96575539]), array([[ 489.5991575 , -122.75211437],\n",
      "       [-122.75211437,  682.4805831 ]]), 664, 664]\n",
      "\n",
      "run 14\n",
      "finished sampling, now run simulations...\n",
      "finished model evaluations.\n",
      "mean of accepted parameters: [-1.08016548  5.02165031]\n",
      "updated hypers: [array([-1.08560214,  4.9696696 ]), array([[ 489.70168612, -121.65699908],\n",
      "       [-121.65699908,  694.17960981]]), 714, 714]\n",
      "\n",
      "run 15\n",
      "finished sampling, now run simulations...\n",
      "finished model evaluations.\n",
      "mean of accepted parameters: [-1.01234769  4.95356939]\n",
      "updated hypers: [array([-1.080808  ,  4.96861592]), array([[ 497.89037351, -128.94881713],\n",
      "       [-128.94881713,  700.78914563]]), 764, 764]\n",
      "\n",
      "run 16\n",
      "finished sampling, now run simulations...\n",
      "finished model evaluations.\n",
      "mean of accepted parameters: [-0.94267888  4.958897  ]\n",
      "updated hypers: [array([-1.07232341,  4.96801894]), array([[ 514.68164237, -152.27322253],\n",
      "       [-152.27322253,  734.83339337]]), 814, 814]\n",
      "\n",
      "run 17\n",
      "finished sampling, now run simulations...\n",
      "finished model evaluations.\n",
      "mean of accepted parameters: [-1.03948486  5.05307098]\n",
      "updated hypers: [array([-1.07042303,  4.97294093]), array([[ 516.38588385, -146.39069725],\n",
      "       [-146.39069725,  755.17696567]]), 864, 864]\n",
      "\n",
      "run 18\n",
      "finished sampling, now run simulations...\n",
      "finished model evaluations.\n",
      "mean of accepted parameters: [-1.0568104   4.93913624]\n",
      "updated hypers: [array([-1.06967836,  4.97109166]), array([[ 526.32663678, -152.29090662],\n",
      "       [-152.29090662,  758.71026747]]), 914, 914]\n",
      "\n",
      "run 19\n",
      "finished sampling, now run simulations...\n",
      "finished model evaluations.\n",
      "mean of accepted parameters: [-0.94085198  4.87605056]\n",
      "updated hypers: [array([-1.06299649,  4.96616214]), array([[ 527.64186871, -153.37569344],\n",
      "       [-153.37569344,  759.61982131]]), 964, 964]\n",
      "\n",
      "run 20\n",
      "finished sampling, now run simulations...\n",
      "finished model evaluations.\n",
      "mean of accepted parameters: [-1.03195735  4.90466163]\n",
      "updated hypers: [array([-1.06146596,  4.96312957]), array([[ 528.18093641, -153.93039892],\n",
      "       [-153.93039892,  760.23601269]]), 1014, 1014]\n",
      "\n",
      "run 21\n",
      "finished sampling, now run simulations...\n",
      "finished model evaluations.\n",
      "mean of accepted parameters: [-1.00001004  5.00767352]\n",
      "updated hypers: [array([-1.058578 ,  4.9652228]), array([[ 535.31006902, -162.15454406],\n",
      "       [-162.15454406,  770.37480607]]), 1064, 1064]\n",
      "\n",
      "run 22\n",
      "finished sampling, now run simulations...\n",
      "finished model evaluations.\n",
      "mean of accepted parameters: [-1.02277846  4.9676701 ]\n",
      "updated hypers: [array([-1.0569712 ,  4.96533265]), array([[ 542.58154053, -163.79008165],\n",
      "       [-163.79008165,  770.74798907]]), 1114, 1114]\n",
      "\n",
      "run 23\n",
      "finished sampling, now run simulations...\n",
      "finished model evaluations.\n",
      "mean of accepted parameters: [-1.0334126   5.11599496]\n",
      "updated hypers: [array([-1.05595923,  4.9718044 ]), array([[ 545.50903831, -170.4929571 ],\n",
      "       [-170.4929571 ,  788.11661014]]), 1164, 1164]\n",
      "\n",
      "run 24\n",
      "finished sampling, now run simulations...\n",
      "finished model evaluations.\n",
      "mean of accepted parameters: [-1.07779219  5.08022136]\n",
      "updated hypers: [array([-1.05685844,  4.97626967]), array([[ 546.81907466, -168.8785519 ],\n",
      "       [-168.8785519 ,  790.99958461]]), 1214, 1214]\n",
      "\n",
      "run 25\n",
      "finished sampling, now run simulations...\n",
      "finished model evaluations.\n",
      "mean of accepted parameters: [-0.92697733  4.88925796]\n",
      "updated hypers: [array([-1.05172074,  4.97282775]), array([[ 564.37919075, -182.44854266],\n",
      "       [-182.44854266,  801.49509452]]), 1264, 1264]\n",
      "\n",
      "run 26\n",
      "finished sampling, now run simulations...\n",
      "finished model evaluations.\n",
      "mean of accepted parameters: [-1.05563037  4.85481967]\n",
      "updated hypers: [array([-1.05186951,  4.96833734]), array([[ 567.04916647, -186.68040019],\n",
      "       [-186.68040019,  808.94469787]]), 1314, 1314]\n",
      "\n",
      "run 27\n",
      "finished sampling, now run simulations...\n",
      "finished model evaluations.\n",
      "mean of accepted parameters: [-1.14498844  5.09558742]\n",
      "updated hypers: [array([-1.05528296,  4.97300193]), array([[ 580.57067968, -214.12062811],\n",
      "       [-214.12062811,  864.82057856]]), 1364, 1364]\n",
      "\n",
      "run 28\n",
      "finished sampling, now run simulations...\n",
      "finished model evaluations.\n",
      "mean of accepted parameters: [-1.0627137   5.05856149]\n",
      "updated hypers: [array([-1.05554572,  4.97602738]), array([[ 580.63639347, -213.71743604],\n",
      "       [-213.71743604,  868.15906092]]), 1414, 1414]\n",
      "\n",
      "run 29\n",
      "finished sampling, now run simulations...\n",
      "finished model evaluations.\n",
      "mean of accepted parameters: [-0.94276845  4.99030673]\n",
      "updated hypers: [array([-1.05169403,  4.97651506]), array([[ 581.717524  , -216.4650957 ],\n",
      "       [-216.4650957 ,  885.26637978]]), 1464, 1464]\n"
     ]
    }
   ],
   "source": [
    "\"\"\"\n",
    "specify parameters for the fitting procedure\n",
    "\"\"\"\n",
    "\n",
    "# extract summary statistics for data\n",
    "sumstat_data = extract_sumstat(data)\n",
    "\n",
    "verbose = True\n",
    "\n",
    "## number of samples\n",
    "# if nr is to small error araises from taking best 1000 values etc.\n",
    "nSamps0 = 1000 # samples in first round\n",
    "nSampsLate = 1000 # samples in later rounds\n",
    "\n",
    "# number of sample to update from (n_accept)\n",
    "nupdate0 = 10 \n",
    "nupdate_late = 50 \n",
    "\n",
    "# number of simulations per parameter draw\n",
    "batchsize = 3\n",
    "\n",
    "# number of rounds\n",
    "rounds = 30\n",
    "\n",
    "# initialize list to save all hyper paramters\n",
    "hypersSave = []\n",
    "\n",
    "# make prior distribution\n",
    "hypers = makeHypersPrior() \n",
    "hypersSave.append(hypers)\n",
    "\n",
    "for noRun in range(0,rounds):\n",
    "    if noRun ==0:\n",
    "        nSamps = nSamps0\n",
    "        nupdate = nupdate0\n",
    "    else:\n",
    "        nSamps = nSampsLate\n",
    "        nupdate = nupdate_late\n",
    "    \n",
    "    if verbose:\n",
    "        print()\n",
    "        print('run',noRun)\n",
    "    \n",
    "    \n",
    "    \"\"\"\n",
    "    sample parameter\n",
    "    \"\"\"\n",
    "    params = drawSamps(hypers, nSamps)\n",
    "    if verbose:\n",
    "        print('finished sampling, now run simulations...')\n",
    "\n",
    "    \n",
    "    \"\"\"\n",
    "    run the model\n",
    "    \"\"\"\n",
    "    traces = model_mult(params, batchsize)\n",
    "    \n",
    "    if verbose:\n",
    "        print('finished model evaluations.')\n",
    "        \n",
    "        \n",
    "    \"\"\"\n",
    "    calculate summary statistics\n",
    "    \"\"\"\n",
    "    loss_params = np.zeros(nSamps)\n",
    "    for i in range(nSamps):\n",
    "        loss_params[i] = loss(traces[i], sumstat_data)\n",
    "\n",
    "    \n",
    "    \"\"\"\n",
    "    sort parameters\n",
    "    \"\"\"\n",
    "    sorted_params = params[loss_params.argsort()]    \n",
    "    \n",
    "    if verbose:\n",
    "        print('mean of accepted parameters:', np.mean(sorted_params[:nupdate], axis=0))\n",
    "    \n",
    "    \"\"\"\n",
    "    update the hyperparameters\n",
    "    \"\"\"\n",
    "    hypers = makeHypers(hypers, sorted_params, nupdate)\n",
    "    # save hypers\n",
    "    hypersSave.append(hypers)\n",
    "    \n",
    "    if verbose:\n",
    "        print('updated hypers:', hypers)\n",
    "    \n"
   ]
  },
  {
   "cell_type": "markdown",
   "metadata": {},
   "source": [
    "## some simple plotting"
   ]
  },
  {
   "cell_type": "code",
   "execution_count": 278,
   "metadata": {},
   "outputs": [],
   "source": [
    "def get_stds(hypers):\n",
    "    \"\"\"\n",
    "    returns std values for one set of hyper params\n",
    "    \"\"\"\n",
    "    k = 2 # dim of parameters\n",
    "    stds = np.zeros(k)\n",
    "\n",
    "    for i in range(k):\n",
    "        stds[i] = (1/(hypers[3] - k) * hypers[1][i,i] )**0.5 #  [muns,Lambdan, kappan, nun]\n",
    "    \n",
    "    return stds\n",
    "\n",
    "def get_cov(hypers):\n",
    "    \"\"\"\n",
    "    expected covs for posterior predictive distribution\n",
    "    \"\"\"\n",
    "    k = 2 \n",
    "    cov =  hypers[1] * (1/(hypers[3] - k)) \n",
    "    return cov"
   ]
  },
  {
   "cell_type": "code",
   "execution_count": 279,
   "metadata": {},
   "outputs": [],
   "source": [
    "\"\"\"\n",
    "extract values\n",
    "\"\"\"\n",
    "\n",
    "means = np.zeros(( rounds,2))\n",
    "covs = np.zeros(( rounds,2,2))\n",
    "stds = np.zeros(( rounds,2))\n",
    "\n",
    "for i in range(rounds):\n",
    "    means[i] = hypersSave[i][0]\n",
    "    stds[i] = get_stds(hypersSave[i])\n",
    "    covs[i] = get_cov(hypersSave[i])\n",
    "    "
   ]
  },
  {
   "cell_type": "code",
   "execution_count": 301,
   "metadata": {},
   "outputs": [],
   "source": [
    "def plot_time_course(means, stds,trueParams, true_std=0, plotTrue=True, plotStds=True,\n",
    "                    ylimits=[None,None]):\n",
    "    \n",
    "    plt.figure(1, figsize=(12, 6))\n",
    "    plt.suptitle('Time course of the expected values of (proposal) prior', y=1.01)\n",
    "    for i in range(2):\n",
    "        plt.subplot(1, 2, i + 1)\n",
    "        plt.plot(means[:,i], label='expected values from (proposal) prior')\n",
    "        if plotTrue:\n",
    "            plt.axhline(trueParams[i], color='red', alpha=0.8, label='True value')\n",
    "            plt.fill_between(np.arange(len(means)),np.ones(len(means))*true_mean[i]-true_std[i],\n",
    "                             np.ones(len(means))*true_mean[i]+true_std[i],\n",
    "                             alpha=0.2,\n",
    "                             color='red', label='+- std of MODEL')\n",
    "        if plotStds:\n",
    "            plt.fill_between(np.arange(len(means)),means[:,i]-stds[:,i],\n",
    "                             means[:,i]+stds[:,i],\n",
    "                             alpha=0.2,\n",
    "                             color='blue', label='+-std of posterior for mean of model')\n",
    "        plt.ylim(ylimits[i])\n",
    "\n",
    "        plt.xlabel('round')\n",
    "    plt.tight_layout()\n",
    "    plt.legend(loc='center left', bbox_to_anchor=(1, 0.5))"
   ]
  },
  {
   "cell_type": "code",
   "execution_count": 302,
   "metadata": {},
   "outputs": [
    {
     "data": {
      "image/png": "[encoded data removed]",
      "text/plain": [
       "<Figure size 864x432 with 2 Axes>"
      ]
     },
     "metadata": {
      "needs_background": "light"
     },
     "output_type": "display_data"
    }
   ],
   "source": [
    "plot_time_course(means, stds, true_mean, true_std=[0.5**0.5,1], ylimits=[[-10,10],[-10,10]] )"
   ]
  },
  {
   "cell_type": "code",
   "execution_count": 280,
   "metadata": {},
   "outputs": [
    {
     "data": {
      "text/plain": [
       "[<matplotlib.lines.Line2D at 0x7f2274132cc0>]"
      ]
     },
     "execution_count": 280,
     "metadata": {},
     "output_type": "execute_result"
    },
    {
     "data": {
      "image/png": "[encoded data removed]",
      "text/plain": [
       "<Figure size 432x288 with 1 Axes>"
      ]
     },
     "metadata": {
      "needs_background": "light"
     },
     "output_type": "display_data"
    }
   ],
   "source": [
    "\"\"\"\n",
    "plot covariances\n",
    "\"\"\"\n",
    "plt.plot(covs[:,0,1])"
   ]
  },
  {
   "cell_type": "code",
   "execution_count": 295,
   "metadata": {},
   "outputs": [],
   "source": [
    "\"\"\"\n",
    "evaluate model from mean of posterior\n",
    "\"\"\"\n",
    "\n",
    "predictions = np.zeros((50,2))\n",
    "\n",
    "for i in range(50):\n",
    "    predictions[i] = model(means[-1])"
   ]
  },
  {
   "cell_type": "code",
   "execution_count": 296,
   "metadata": {},
   "outputs": [
    {
     "data": {
      "text/plain": [
       "<matplotlib.legend.Legend at 0x7f2273e59e48>"
      ]
     },
     "execution_count": 296,
     "metadata": {},
     "output_type": "execute_result"
    },
    {
     "data": {
      "image/png": "[encoded data removed]",
      "text/plain": [
       "<Figure size 432x288 with 1 Axes>"
      ]
     },
     "metadata": {
      "needs_background": "light"
     },
     "output_type": "display_data"
    }
   ],
   "source": [
    "plt.plot(data[:,0],data[:,1],'o', label='data', alpha=0.5)\n",
    "plt.plot(predictions[:,0],predictions[:,1],'o', label='predictions', alpha=0.5)\n",
    "\n",
    "plt.plot(true_mean[0], true_mean[1],'o', color='r', label='true mean')\n",
    "plt.plot(means[-1][0],means[-1][1], 'o', label='predicted mean')\n",
    "plt.legend()"
   ]
  }
 ],
 "metadata": {
  "kernelspec": {
   "display_name": "Python 3",
   "language": "python",
   "name": "python3"
  },
  "language_info": {
   "codemirror_mode": {
    "name": "ipython",
    "version": 3
   },
   "file_extension": ".py",
   "mimetype": "text/x-python",
   "name": "python",
   "nbconvert_exporter": "python",
   "pygments_lexer": "ipython3",
   "version": "3.6.7"
  }
 },
 "nbformat": 4,
 "nbformat_minor": 2
}
